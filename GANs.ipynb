{
 "cells": [
  {
   "cell_type": "code",
   "execution_count": 2,
   "metadata": {},
   "outputs": [],
   "source": [
    "import pandas as pd\n",
    "import numpy as np\n",
    "import matplotlib.pyplot as plt"
   ]
  },
  {
   "cell_type": "code",
   "execution_count": 4,
   "metadata": {},
   "outputs": [],
   "source": [
    "from tensorflow.keras.datasets import mnist"
   ]
  },
  {
   "cell_type": "code",
   "execution_count": 5,
   "metadata": {},
   "outputs": [],
   "source": [
    "(X_train, y_train), (X_test, y_test) = mnist.load_data()"
   ]
  },
  {
   "cell_type": "code",
   "execution_count": 6,
   "metadata": {},
   "outputs": [
    {
     "data": {
      "text/plain": [
       "<matplotlib.image.AxesImage at 0x268dc712c50>"
      ]
     },
     "execution_count": 6,
     "metadata": {},
     "output_type": "execute_result"
    },
    {
     "data": {
      "image/png": "[encoded data removed]",
      "text/plain": [
       "<Figure size 432x288 with 1 Axes>"
      ]
     },
     "metadata": {
      "needs_background": "light"
     },
     "output_type": "display_data"
    }
   ],
   "source": [
    "plt.imshow(X_train[0])"
   ]
  },
  {
   "cell_type": "code",
   "execution_count": 7,
   "metadata": {},
   "outputs": [],
   "source": [
    "X_train = X_train/255"
   ]
  },
  {
   "cell_type": "code",
   "execution_count": 8,
   "metadata": {},
   "outputs": [
    {
     "data": {
      "text/plain": [
       "(60000, 28, 28)"
      ]
     },
     "execution_count": 8,
     "metadata": {},
     "output_type": "execute_result"
    }
   ],
   "source": [
    "X_train.shape"
   ]
  },
  {
   "cell_type": "code",
   "execution_count": 9,
   "metadata": {},
   "outputs": [],
   "source": [
    "X_train = X_train.reshape(-1, 28, 28, 1) * 2 - 1 "
   ]
  },
  {
   "cell_type": "code",
   "execution_count": 10,
   "metadata": {},
   "outputs": [
    {
     "data": {
      "text/plain": [
       "-1.0"
      ]
     },
     "execution_count": 10,
     "metadata": {},
     "output_type": "execute_result"
    }
   ],
   "source": [
    "X_train.min()"
   ]
  },
  {
   "cell_type": "code",
   "execution_count": 11,
   "metadata": {},
   "outputs": [
    {
     "data": {
      "text/plain": [
       "1.0"
      ]
     },
     "execution_count": 11,
     "metadata": {},
     "output_type": "execute_result"
    }
   ],
   "source": [
    "X_train.max()"
   ]
  },
  {
   "cell_type": "code",
   "execution_count": 12,
   "metadata": {},
   "outputs": [],
   "source": [
    "only_six = X_train[y_train==6]"
   ]
  },
  {
   "cell_type": "code",
   "execution_count": 13,
   "metadata": {},
   "outputs": [
    {
     "data": {
      "text/plain": [
       "(5918, 28, 28, 1)"
      ]
     },
     "execution_count": 13,
     "metadata": {},
     "output_type": "execute_result"
    }
   ],
   "source": [
    "only_six.shape"
   ]
  },
  {
   "cell_type": "code",
   "execution_count": 14,
   "metadata": {},
   "outputs": [],
   "source": [
    "import tensorflow as tf\n",
    "from tensorflow.keras.layers import Dense, Reshape,Dropout, LeakyReLU, Flatten, BatchNormalization, Conv2D, Conv2DTranspose\n",
    "from tensorflow.keras.models import Sequential"
   ]
  },
  {
   "cell_type": "code",
   "execution_count": 15,
   "metadata": {},
   "outputs": [],
   "source": [
    "np.random.seed(10)\n",
    "tf.random.set_seed(10)\n",
    "\n",
    "codings_size = 100"
   ]
  },
  {
   "cell_type": "code",
   "execution_count": 16,
   "metadata": {},
   "outputs": [],
   "source": [
    "generator = Sequential()\n",
    "generator.add(Dense(7*7*128, input_shape=[codings_size]))\n",
    "generator.add(Reshape([7,7,128]))\n",
    "generator.add(BatchNormalization())\n",
    "generator.add(Conv2DTranspose(64, kernel_size=5, strides=2, padding='same',\n",
    "                             activation='relu'))\n",
    "generator.add(BatchNormalization())\n",
    "generator.add(Conv2DTranspose(1, kernel_size=5, strides=2, padding='same',\n",
    "                             activation='tanh'))"
   ]
  },
  {
   "cell_type": "code",
   "execution_count": 17,
   "metadata": {},
   "outputs": [],
   "source": [
    "discriminator = Sequential()\n",
    "discriminator.add(Conv2D(64, kernel_size=5, strides=2, padding='same',\n",
    "                        activation=LeakyReLU(0.3),\n",
    "                        input_shape=[28, 28, 1]))\n",
    "discriminator.add(Dropout(0.5))\n",
    "discriminator.add(Conv2D(128, kernel_size=5, strides=2, padding='same',\n",
    "                        activation=LeakyReLU(0.3)))\n",
    "discriminator.add(Dropout(0.5))\n",
    "discriminator.add(Flatten())\n",
    "discriminator.add(Dense(1, activation='sigmoid'))"
   ]
  },
  {
   "cell_type": "code",
   "execution_count": 18,
   "metadata": {},
   "outputs": [],
   "source": [
    "GAN = Sequential([generator, discriminator])"
   ]
  },
  {
   "cell_type": "code",
   "execution_count": 19,
   "metadata": {},
   "outputs": [],
   "source": [
    "discriminator.compile(loss='binary_crossentropy', optimizer='adam')\n",
    "discriminator.trainable = False"
   ]
  },
  {
   "cell_type": "code",
   "execution_count": 20,
   "metadata": {},
   "outputs": [],
   "source": [
    "GAN.compile(loss='binary_crossentropy', optimizer='adam')"
   ]
  },
  {
   "cell_type": "code",
   "execution_count": 21,
   "metadata": {},
   "outputs": [
    {
     "data": {
      "text/plain": [
       "[<tensorflow.python.keras.engine.sequential.Sequential at 0x268dc778da0>,\n",
       " <tensorflow.python.keras.engine.sequential.Sequential at 0x2688266bef0>]"
      ]
     },
     "execution_count": 21,
     "metadata": {},
     "output_type": "execute_result"
    }
   ],
   "source": [
    "GAN.layers"
   ]
  },
  {
   "cell_type": "code",
   "execution_count": 22,
   "metadata": {},
   "outputs": [
    {
     "name": "stdout",
     "output_type": "stream",
     "text": [
      "Model: \"sequential_2\"\n",
      "_________________________________________________________________\n",
      "Layer (type)                 Output Shape              Param #   \n",
      "=================================================================\n",
      "sequential (Sequential)      (None, 28, 28, 1)         840705    \n",
      "_________________________________________________________________\n",
      "sequential_1 (Sequential)    (None, 1)                 212865    \n",
      "=================================================================\n",
      "Total params: 1,053,570\n",
      "Trainable params: 840,321\n",
      "Non-trainable params: 213,249\n",
      "_________________________________________________________________\n"
     ]
    }
   ],
   "source": [
    "GAN.summary()"
   ]
  },
  {
   "cell_type": "code",
   "execution_count": 23,
   "metadata": {},
   "outputs": [
    {
     "name": "stdout",
     "output_type": "stream",
     "text": [
      "Model: \"sequential\"\n",
      "_________________________________________________________________\n",
      "Layer (type)                 Output Shape              Param #   \n",
      "=================================================================\n",
      "dense (Dense)                (None, 6272)              633472    \n",
      "_________________________________________________________________\n",
      "reshape (Reshape)            (None, 7, 7, 128)         0         \n",
      "_________________________________________________________________\n",
      "batch_normalization (BatchNo (None, 7, 7, 128)         512       \n",
      "_________________________________________________________________\n",
      "conv2d_transpose (Conv2DTran (None, 14, 14, 64)        204864    \n",
      "_________________________________________________________________\n",
      "batch_normalization_1 (Batch (None, 14, 14, 64)        256       \n",
      "_________________________________________________________________\n",
      "conv2d_transpose_1 (Conv2DTr (None, 28, 28, 1)         1601      \n",
      "=================================================================\n",
      "Total params: 840,705\n",
      "Trainable params: 840,321\n",
      "Non-trainable params: 384\n",
      "_________________________________________________________________\n"
     ]
    }
   ],
   "source": [
    "GAN.layers[0].summary()"
   ]
  },
  {
   "cell_type": "code",
   "execution_count": 24,
   "metadata": {},
   "outputs": [
    {
     "name": "stdout",
     "output_type": "stream",
     "text": [
      "Model: \"sequential_1\"\n",
      "_________________________________________________________________\n",
      "Layer (type)                 Output Shape              Param #   \n",
      "=================================================================\n",
      "conv2d (Conv2D)              (None, 14, 14, 64)        1664      \n",
      "_________________________________________________________________\n",
      "dropout (Dropout)            (None, 14, 14, 64)        0         \n",
      "_________________________________________________________________\n",
      "conv2d_1 (Conv2D)            (None, 7, 7, 128)         204928    \n",
      "_________________________________________________________________\n",
      "dropout_1 (Dropout)          (None, 7, 7, 128)         0         \n",
      "_________________________________________________________________\n",
      "flatten (Flatten)            (None, 6272)              0         \n",
      "_________________________________________________________________\n",
      "dense_1 (Dense)              (None, 1)                 6273      \n",
      "=================================================================\n",
      "WARNING:tensorflow:Discrepancy between trainable weights and collected trainable weights, did you set `model.trainable` without calling `model.compile` after ?\n",
      "Total params: 425,730\n",
      "Trainable params: 212,865\n",
      "Non-trainable params: 212,865\n",
      "_________________________________________________________________\n"
     ]
    }
   ],
   "source": [
    "GAN.layers[1].summary()"
   ]
  },
  {
   "cell_type": "code",
   "execution_count": 25,
   "metadata": {},
   "outputs": [],
   "source": [
    "batch_size = 32"
   ]
  },
  {
   "cell_type": "code",
   "execution_count": 26,
   "metadata": {},
   "outputs": [],
   "source": [
    "my_data = only_six"
   ]
  },
  {
   "cell_type": "code",
   "execution_count": 27,
   "metadata": {},
   "outputs": [],
   "source": [
    "dataset = tf.data.Dataset.from_tensor_slices(my_data).shuffle(buffer_size=1000)"
   ]
  },
  {
   "cell_type": "code",
   "execution_count": 28,
   "metadata": {},
   "outputs": [
    {
     "data": {
      "text/plain": [
       "tensorflow.python.data.ops.dataset_ops.ShuffleDataset"
      ]
     },
     "execution_count": 28,
     "metadata": {},
     "output_type": "execute_result"
    }
   ],
   "source": [
    "type(dataset)"
   ]
  },
  {
   "cell_type": "code",
   "execution_count": 29,
   "metadata": {},
   "outputs": [],
   "source": [
    "dataset = dataset.batch(batch_size, drop_remainder=True).prefetch(1)"
   ]
  },
  {
   "cell_type": "code",
   "execution_count": 30,
   "metadata": {},
   "outputs": [],
   "source": [
    "epochs = 20"
   ]
  },
  {
   "cell_type": "code",
   "execution_count": 31,
   "metadata": {},
   "outputs": [
    {
     "name": "stdout",
     "output_type": "stream",
     "text": [
      "Epoch No. 1\n",
      "Current batch 20 of 184\n",
      "Current batch 40 of 184\n",
      "Current batch 60 of 184\n",
      "Current batch 80 of 184\n",
      "Current batch 100 of 184\n",
      "Current batch 120 of 184\n",
      "Current batch 140 of 184\n",
      "Current batch 160 of 184\n",
      "Current batch 180 of 184\n",
      "Epoch No. 2\n",
      "Current batch 20 of 184\n",
      "Current batch 40 of 184\n",
      "Current batch 60 of 184\n",
      "Current batch 80 of 184\n",
      "Current batch 100 of 184\n",
      "Current batch 120 of 184\n",
      "Current batch 140 of 184\n",
      "Current batch 160 of 184\n",
      "Current batch 180 of 184\n",
      "Epoch No. 3\n",
      "Current batch 20 of 184\n",
      "Current batch 40 of 184\n",
      "Current batch 60 of 184\n",
      "Current batch 80 of 184\n",
      "Current batch 100 of 184\n",
      "Current batch 120 of 184\n",
      "Current batch 140 of 184\n",
      "Current batch 160 of 184\n",
      "Current batch 180 of 184\n",
      "Epoch No. 4\n",
      "Current batch 20 of 184\n",
      "Current batch 40 of 184\n",
      "Current batch 60 of 184\n",
      "Current batch 80 of 184\n",
      "Current batch 100 of 184\n",
      "Current batch 120 of 184\n",
      "Current batch 140 of 184\n",
      "Current batch 160 of 184\n",
      "Current batch 180 of 184\n",
      "Epoch No. 5\n",
      "Current batch 20 of 184\n",
      "Current batch 40 of 184\n",
      "Current batch 60 of 184\n",
      "Current batch 80 of 184\n",
      "Current batch 100 of 184\n",
      "Current batch 120 of 184\n",
      "Current batch 140 of 184\n",
      "Current batch 160 of 184\n",
      "Current batch 180 of 184\n",
      "Epoch No. 6\n",
      "Current batch 20 of 184\n",
      "Current batch 40 of 184\n",
      "Current batch 60 of 184\n",
      "Current batch 80 of 184\n",
      "Current batch 100 of 184\n",
      "Current batch 120 of 184\n",
      "Current batch 140 of 184\n",
      "Current batch 160 of 184\n",
      "Current batch 180 of 184\n",
      "Epoch No. 7\n",
      "Current batch 20 of 184\n",
      "Current batch 40 of 184\n",
      "Current batch 60 of 184\n",
      "Current batch 80 of 184\n",
      "Current batch 100 of 184\n",
      "Current batch 120 of 184\n",
      "Current batch 140 of 184\n",
      "Current batch 160 of 184\n",
      "Current batch 180 of 184\n",
      "Epoch No. 8\n",
      "Current batch 20 of 184\n",
      "Current batch 40 of 184\n",
      "Current batch 60 of 184\n",
      "Current batch 80 of 184\n",
      "Current batch 100 of 184\n",
      "Current batch 120 of 184\n",
      "Current batch 140 of 184\n",
      "Current batch 160 of 184\n",
      "Current batch 180 of 184\n",
      "Epoch No. 9\n",
      "Current batch 20 of 184\n",
      "Current batch 40 of 184\n",
      "Current batch 60 of 184\n",
      "Current batch 80 of 184\n",
      "Current batch 100 of 184\n",
      "Current batch 120 of 184\n",
      "Current batch 140 of 184\n",
      "Current batch 160 of 184\n",
      "Current batch 180 of 184\n",
      "Epoch No. 10\n",
      "Current batch 20 of 184\n",
      "Current batch 40 of 184\n",
      "Current batch 60 of 184\n",
      "Current batch 80 of 184\n",
      "Current batch 100 of 184\n",
      "Current batch 120 of 184\n",
      "Current batch 140 of 184\n",
      "Current batch 160 of 184\n",
      "Current batch 180 of 184\n",
      "Epoch No. 11\n",
      "Current batch 20 of 184\n",
      "Current batch 40 of 184\n",
      "Current batch 60 of 184\n",
      "Current batch 80 of 184\n",
      "Current batch 100 of 184\n",
      "Current batch 120 of 184\n",
      "Current batch 140 of 184\n",
      "Current batch 160 of 184\n",
      "Current batch 180 of 184\n",
      "Epoch No. 12\n",
      "Current batch 20 of 184\n",
      "Current batch 40 of 184\n",
      "Current batch 60 of 184\n",
      "Current batch 80 of 184\n",
      "Current batch 100 of 184\n",
      "Current batch 120 of 184\n",
      "Current batch 140 of 184\n",
      "Current batch 160 of 184\n",
      "Current batch 180 of 184\n",
      "Epoch No. 13\n",
      "Current batch 20 of 184\n",
      "Current batch 40 of 184\n",
      "Current batch 60 of 184\n",
      "Current batch 80 of 184\n",
      "Current batch 100 of 184\n",
      "Current batch 120 of 184\n",
      "Current batch 140 of 184\n",
      "Current batch 160 of 184\n",
      "Current batch 180 of 184\n",
      "Epoch No. 14\n",
      "Current batch 20 of 184\n",
      "Current batch 40 of 184\n",
      "Current batch 60 of 184\n",
      "Current batch 80 of 184\n",
      "Current batch 100 of 184\n",
      "Current batch 120 of 184\n",
      "Current batch 140 of 184\n",
      "Current batch 160 of 184\n",
      "Current batch 180 of 184\n",
      "Epoch No. 15\n",
      "Current batch 20 of 184\n",
      "Current batch 40 of 184\n",
      "Current batch 60 of 184\n",
      "Current batch 80 of 184\n",
      "Current batch 100 of 184\n",
      "Current batch 120 of 184\n",
      "Current batch 140 of 184\n",
      "Current batch 160 of 184\n",
      "Current batch 180 of 184\n",
      "Epoch No. 16\n",
      "Current batch 20 of 184\n",
      "Current batch 40 of 184\n",
      "Current batch 60 of 184\n",
      "Current batch 80 of 184\n",
      "Current batch 100 of 184\n",
      "Current batch 120 of 184\n",
      "Current batch 140 of 184\n",
      "Current batch 160 of 184\n",
      "Current batch 180 of 184\n",
      "Epoch No. 17\n",
      "Current batch 20 of 184\n",
      "Current batch 40 of 184\n",
      "Current batch 60 of 184\n",
      "Current batch 80 of 184\n",
      "Current batch 100 of 184\n",
      "Current batch 120 of 184\n",
      "Current batch 140 of 184\n",
      "Current batch 160 of 184\n",
      "Current batch 180 of 184\n",
      "Epoch No. 18\n",
      "Current batch 20 of 184\n",
      "Current batch 40 of 184\n",
      "Current batch 60 of 184\n",
      "Current batch 80 of 184\n",
      "Current batch 100 of 184\n",
      "Current batch 120 of 184\n",
      "Current batch 140 of 184\n",
      "Current batch 160 of 184\n",
      "Current batch 180 of 184\n",
      "Epoch No. 19\n",
      "Current batch 20 of 184\n",
      "Current batch 40 of 184\n",
      "Current batch 60 of 184\n",
      "Current batch 80 of 184\n",
      "Current batch 100 of 184\n",
      "Current batch 120 of 184\n",
      "Current batch 140 of 184\n",
      "Current batch 160 of 184\n",
      "Current batch 180 of 184\n",
      "Epoch No. 20\n",
      "Current batch 20 of 184\n",
      "Current batch 40 of 184\n",
      "Current batch 60 of 184\n",
      "Current batch 80 of 184\n",
      "Current batch 100 of 184\n",
      "Current batch 120 of 184\n",
      "Current batch 140 of 184\n",
      "Current batch 160 of 184\n",
      "Current batch 180 of 184\n",
      "Completed\n"
     ]
    }
   ],
   "source": [
    "generator, discriminator = GAN.layers\n",
    "\n",
    "for epoch in range(epochs):\n",
    "    print(f'Epoch No. {epoch +1}')\n",
    "    \n",
    "    i = 0\n",
    "    for X_batch in dataset:\n",
    "        i= i+1\n",
    "        if i%20 == 0:\n",
    "            print(f'Current batch {i} of {len(my_data)//batch_size}')\n",
    "            \n",
    "            noise = tf.random.normal(shape=[batch_size, codings_size])\n",
    "            gen_images = generator(noise)\n",
    "            \n",
    "            X_fake_vs_real = tf.concat([gen_images, tf.dtypes.cast(X_batch, tf.float32)], axis=0)\n",
    "            \n",
    "            y1 = tf.constant([[0.]] * batch_size + [[1.]] *batch_size)\n",
    "            \n",
    "            discriminator.trainable = True\n",
    "            \n",
    "            discriminator.train_on_batch(X_fake_vs_real, y1)\n",
    "            \n",
    "            noise = tf.random.normal(shape=[batch_size, codings_size])\n",
    "            y2 = tf.constant([[1.]] * batch_size)\n",
    "            \n",
    "            discriminator.trainable = False\n",
    "            \n",
    "            GAN.train_on_batch(noise, y2)\n",
    "\n",
    "print('Completed')\n",
    "                    \n",
    "          "
   ]
  },
  {
   "cell_type": "code",
   "execution_count": 33,
   "metadata": {},
   "outputs": [],
   "source": [
    "noise = tf.random.normal(shape=[10, codings_size])"
   ]
  },
  {
   "cell_type": "code",
   "execution_count": 34,
   "metadata": {},
   "outputs": [
    {
     "data": {
      "text/plain": [
       "TensorShape([10, 100])"
      ]
     },
     "execution_count": 34,
     "metadata": {},
     "output_type": "execute_result"
    }
   ],
   "source": [
    "noise.shape"
   ]
  },
  {
   "cell_type": "code",
   "execution_count": 35,
   "metadata": {},
   "outputs": [
    {
     "data": {
      "text/plain": [
       "<matplotlib.image.AxesImage at 0x26883e31860>"
      ]
     },
     "execution_count": 35,
     "metadata": {},
     "output_type": "execute_result"
    },
    {
     "data": {
      "image/png": "[encoded data removed]",
      "text/plain": [
       "<Figure size 432x288 with 1 Axes>"
      ]
     },
     "metadata": {
      "needs_background": "light"
     },
     "output_type": "display_data"
    }
   ],
   "source": [
    "plt.imshow(noise)"
   ]
  },
  {
   "cell_type": "code",
   "execution_count": 36,
   "metadata": {},
   "outputs": [],
   "source": [
    "images = generator(noise)"
   ]
  },
  {
   "cell_type": "code",
   "execution_count": 37,
   "metadata": {},
   "outputs": [],
   "source": [
    "sin_image = images[0]"
   ]
  },
  {
   "cell_type": "code",
   "execution_count": 38,
   "metadata": {},
   "outputs": [
    {
     "data": {
      "image/png": "[encoded data removed]",
      "text/plain": [
       "<Figure size 432x288 with 1 Axes>"
      ]
     },
     "metadata": {
      "needs_background": "light"
     },
     "output_type": "display_data"
    },
    {
     "data": {
      "image/png": "[encoded data removed]",
      "text/plain": [
       "<Figure size 432x288 with 1 Axes>"
      ]
     },
     "metadata": {
      "needs_background": "light"
     },
     "output_type": "display_data"
    },
    {
     "data": {
      "image/png": "[encoded data removed]",
      "text/plain": [
       "<Figure size 432x288 with 1 Axes>"
      ]
     },
     "metadata": {
      "needs_background": "light"
     },
     "output_type": "display_data"
    },
    {
     "data": {
      "image/png": "[encoded data removed]",
      "text/plain": [
       "<Figure size 432x288 with 1 Axes>"
      ]
     },
     "metadata": {
      "needs_background": "light"
     },
     "output_type": "display_data"
    },
    {
     "data": {
      "image/png": "[encoded data removed]",
      "text/plain": [
       "<Figure size 432x288 with 1 Axes>"
      ]
     },
     "metadata": {
      "needs_background": "light"
     },
     "output_type": "display_data"
    },
    {
     "data": {
      "image/png": "[encoded data removed]",
      "text/plain": [
       "<Figure size 432x288 with 1 Axes>"
      ]
     },
     "metadata": {
      "needs_background": "light"
     },
     "output_type": "display_data"
    },
    {
     "data": {
      "image/png": "[encoded data removed]",
      "text/plain": [
       "<Figure size 432x288 with 1 Axes>"
      ]
     },
     "metadata": {
      "needs_background": "light"
     },
     "output_type": "display_data"
    },
    {
     "data": {
      "image/png": "[encoded data removed]",
      "text/plain": [
       "<Figure size 432x288 with 1 Axes>"
      ]
     },
     "metadata": {
      "needs_background": "light"
     },
     "output_type": "display_data"
    },
    {
     "data": {
      "image/png": "[encoded data removed]",
      "text/plain": [
       "<Figure size 432x288 with 1 Axes>"
      ]
     },
     "metadata": {
      "needs_background": "light"
     },
     "output_type": "display_data"
    },
    {
     "data": {
      "image/png": "[encoded data removed]",
      "text/plain": [
       "<Figure size 432x288 with 1 Axes>"
      ]
     },
     "metadata": {
      "needs_background": "light"
     },
     "output_type": "display_data"
    }
   ],
   "source": [
    "for image in images:\n",
    "    plt.imshow(image.numpy().reshape(28, 28))\n",
    "    plt.show()"
   ]
  },
  {
   "cell_type": "code",
   "execution_count": null,
   "metadata": {},
   "outputs": [],
   "source": []
  }
 ],
 "metadata": {
  "kernelspec": {
   "display_name": "Python 3",
   "language": "python",
   "name": "python3"
  },
  "language_info": {
   "codemirror_mode": {
    "name": "ipython",
    "version": 3
   },
   "file_extension": ".py",
   "mimetype": "text/x-python",
   "name": "python",
   "nbconvert_exporter": "python",
   "pygments_lexer": "ipython3",
   "version": "3.6.7"
  }
 },
 "nbformat": 4,
 "nbformat_minor": 4
}
